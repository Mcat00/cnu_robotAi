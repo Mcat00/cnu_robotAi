{
 "cells": [
  {
   "cell_type": "code",
   "execution_count": 1,
   "metadata": {
    "_cell_guid": "b1076dfc-b9ad-4769-8c92-a6c4dae69d19",
    "_kg_hide-input": true,
    "_uuid": "8f2839f25d086af736a60e9eeb907d3b93b6e0e5",
    "execution": {
     "iopub.execute_input": "2024-06-12T14:53:12.783362Z",
     "iopub.status.busy": "2024-06-12T14:53:12.782623Z",
     "iopub.status.idle": "2024-06-12T14:53:31.295533Z",
     "shell.execute_reply": "2024-06-12T14:53:31.294858Z",
     "shell.execute_reply.started": "2024-06-12T14:40:36.924379Z"
    },
    "papermill": {
     "duration": 18.54296,
     "end_time": "2024-06-12T14:53:31.295677",
     "exception": false,
     "start_time": "2024-06-12T14:53:12.752717",
     "status": "completed"
    },
    "tags": []
   },
   "outputs": [],
   "source": [
    "import torch\n",
    "from torch import nn\n",
    "from torchvision import transforms as T\n",
    "\n",
    "import time, datetime\n",
    "import matplotlib.pyplot as plt\n",
    "from PIL import Image\n",
    "import numpy as np\n",
    "from pathlib import Path\n",
    "from collections import deque\n",
    "import random, datetime, os, copy\n",
    "\n",
    "import gym\n",
    "from gym.spaces import Box\n",
    "from gym.wrappers import FrameStack\n",
    "\n",
    "# 작업 디렉토리 설정\n",
    "import os\n",
    "os.chdir('/kaggle/input/gym-super-mario-bros')\n",
    "\n",
    "# NES 에뮬레이터 설치\n",
    "!pip --disable-pip-version-check install -q nes_py\n",
    "from nes_py.wrappers import JoypadSpace\n",
    "\n",
    "import gym_super_mario_bros"
   ]
  },
  {
   "cell_type": "code",
   "execution_count": 2,
   "metadata": {
    "execution": {
     "iopub.execute_input": "2024-06-12T14:53:31.332838Z",
     "iopub.status.busy": "2024-06-12T14:53:31.332209Z",
     "iopub.status.idle": "2024-06-12T14:53:31.754556Z",
     "shell.execute_reply": "2024-06-12T14:53:31.753905Z",
     "shell.execute_reply.started": "2024-06-12T14:40:58.121548Z"
    },
    "papermill": {
     "duration": 0.44357,
     "end_time": "2024-06-12T14:53:31.754672",
     "exception": false,
     "start_time": "2024-06-12T14:53:31.311102",
     "status": "completed"
    },
    "tags": []
   },
   "outputs": [
    {
     "name": "stdout",
     "output_type": "stream",
     "text": [
      "(240, 256, 3),\n",
      " 0.0,\n",
      " False,\n",
      " {'coins': 0, 'flag_get': False, 'life': 2, 'score': 0, 'stage': 1, 'status': 'small', 'time': 400, 'world': 1, 'x_pos': 40, 'y_pos': 79}\n"
     ]
    }
   ],
   "source": [
    "env = gym_super_mario_bros.make(\"SuperMarioBros-1-1-v0\")\n",
    "\n",
    "# 액션 스페이스 한정\n",
    "# 0. 오른쪽으로 걷기\n",
    "# 1. 오른쪽으로 점프\n",
    "env = JoypadSpace(env, [[\"right\"], [\"right\", \"A\"]])\n",
    "\n",
    "env.reset()\n",
    "next_state, reward, done, info = env.step(action=0)\n",
    "print(f\"{next_state.shape},\\n {reward},\\n {done},\\n {info}\")"
   ]
  },
  {
   "cell_type": "code",
   "execution_count": 3,
   "metadata": {
    "execution": {
     "iopub.execute_input": "2024-06-12T14:53:31.793611Z",
     "iopub.status.busy": "2024-06-12T14:53:31.792925Z",
     "iopub.status.idle": "2024-06-12T14:53:31.795651Z",
     "shell.execute_reply": "2024-06-12T14:53:31.795064Z",
     "shell.execute_reply.started": "2024-06-12T14:40:58.597902Z"
    },
    "papermill": {
     "duration": 0.025457,
     "end_time": "2024-06-12T14:53:31.795750",
     "exception": false,
     "start_time": "2024-06-12T14:53:31.770293",
     "status": "completed"
    },
    "tags": []
   },
   "outputs": [],
   "source": [
    "# 모든 프레임에서 액션 수행하지 않고 일정 프레임 스킵해서 효율 상승\n",
    "class SkipFrame(gym.Wrapper):\n",
    "    def __init__(self, env, skip):\n",
    "        super().__init__(env)\n",
    "        self._skip = skip\n",
    "        \n",
    "    def step(self, action):\n",
    "        total_reward = 0.0\n",
    "        done = False\n",
    "        for i in range(self._skip):\n",
    "            obs, reward, done, info = self.env.step(action)\n",
    "            total_reward += reward\n",
    "            if done:\n",
    "                break\n",
    "        return obs, total_reward, done, info"
   ]
  },
  {
   "cell_type": "code",
   "execution_count": 4,
   "metadata": {
    "execution": {
     "iopub.execute_input": "2024-06-12T14:53:31.835338Z",
     "iopub.status.busy": "2024-06-12T14:53:31.834754Z",
     "iopub.status.idle": "2024-06-12T14:53:31.837550Z",
     "shell.execute_reply": "2024-06-12T14:53:31.836959Z",
     "shell.execute_reply.started": "2024-06-12T14:40:58.608070Z"
    },
    "papermill": {
     "duration": 0.026941,
     "end_time": "2024-06-12T14:53:31.837650",
     "exception": false,
     "start_time": "2024-06-12T14:53:31.810709",
     "status": "completed"
    },
    "tags": []
   },
   "outputs": [],
   "source": [
    "class GrayScaleObservation(gym.ObservationWrapper):\n",
    "    def __init__(self, env):\n",
    "        super().__init__(env)\n",
    "        obs_shape = self.observation_space.shape[:2]\n",
    "        self.observation_space = Box(low=0, high=255, shape=obs_shape, dtype=np.uint8)\n",
    "        self.transform = T.Grayscale()\n",
    "    \n",
    "    def permute_orientation(self, observation):\n",
    "        observation = np.transpose(observation, (2, 0, 1))\n",
    "        return torch.tensor(observation.copy(), dtype=torch.float)\n",
    "    \n",
    "    def observation(self, observation):\n",
    "        observation = self.permute_orientation(observation)\n",
    "        return self.transform(observation)"
   ]
  },
  {
   "cell_type": "code",
   "execution_count": 5,
   "metadata": {
    "execution": {
     "iopub.execute_input": "2024-06-12T14:53:31.875883Z",
     "iopub.status.busy": "2024-06-12T14:53:31.875245Z",
     "iopub.status.idle": "2024-06-12T14:53:31.878003Z",
     "shell.execute_reply": "2024-06-12T14:53:31.877406Z",
     "shell.execute_reply.started": "2024-06-12T14:40:58.627580Z"
    },
    "papermill": {
     "duration": 0.02553,
     "end_time": "2024-06-12T14:53:31.878092",
     "exception": false,
     "start_time": "2024-06-12T14:53:31.852562",
     "status": "completed"
    },
    "tags": []
   },
   "outputs": [],
   "source": [
    "class ResizeObservation(gym.ObservationWrapper):\n",
    "    def __init__(self, env, shape):\n",
    "        super().__init__(env)\n",
    "        if isinstance(shape, int): self.shape = (shape, shape)\n",
    "        else: self.shape = tuple(shape)\n",
    "\n",
    "        obs_shape = self.shape + self.observation_space.shape[2:]\n",
    "        self.observation_space = Box(low=0, high=255, shape=obs_shape, dtype=np.uint8)\n",
    "        \n",
    "    def observation(self, observation):\n",
    "        transforms = T.Compose([T.Resize(self.shape), T.Normalize(0, 255)])\n",
    "        return transforms(observation).squeeze(0)"
   ]
  },
  {
   "cell_type": "code",
   "execution_count": 6,
   "metadata": {
    "execution": {
     "iopub.execute_input": "2024-06-12T14:53:31.912919Z",
     "iopub.status.busy": "2024-06-12T14:53:31.912288Z",
     "iopub.status.idle": "2024-06-12T14:53:31.916208Z",
     "shell.execute_reply": "2024-06-12T14:53:31.915667Z",
     "shell.execute_reply.started": "2024-06-12T14:40:58.640437Z"
    },
    "papermill": {
     "duration": 0.023163,
     "end_time": "2024-06-12T14:53:31.916312",
     "exception": false,
     "start_time": "2024-06-12T14:53:31.893149",
     "status": "completed"
    },
    "tags": []
   },
   "outputs": [],
   "source": [
    "env = SkipFrame(env, skip=4)  # 4프레임 단위로 수행\n",
    "env = GrayScaleObservation(env)\n",
    "env = ResizeObservation(env, shape=84)\n",
    "env = FrameStack(env, num_stack=4)  # num_stack 만큼의 최근 프레임을 쌓아서 하나의 상태로 만듦"
   ]
  },
  {
   "cell_type": "markdown",
   "metadata": {
    "papermill": {
     "duration": 0.01485,
     "end_time": "2024-06-12T14:53:31.946189",
     "exception": false,
     "start_time": "2024-06-12T14:53:31.931339",
     "status": "completed"
    },
    "tags": []
   },
   "source": [
    "# DDQN"
   ]
  },
  {
   "cell_type": "code",
   "execution_count": 7,
   "metadata": {
    "execution": {
     "iopub.execute_input": "2024-06-12T14:53:31.987128Z",
     "iopub.status.busy": "2024-06-12T14:53:31.983546Z",
     "iopub.status.idle": "2024-06-12T14:53:31.989707Z",
     "shell.execute_reply": "2024-06-12T14:53:31.989192Z",
     "shell.execute_reply.started": "2024-06-12T14:40:58.651760Z"
    },
    "papermill": {
     "duration": 0.028637,
     "end_time": "2024-06-12T14:53:31.989808",
     "exception": false,
     "start_time": "2024-06-12T14:53:31.961171",
     "status": "completed"
    },
    "tags": []
   },
   "outputs": [],
   "source": [
    "# DQN 모델 생성\n",
    "class MarioNet(nn.Module):\n",
    "    def __init__(self, input_dim, output_dim):\n",
    "        super().__init__()\n",
    "        c, w, h = input_dim\n",
    "            \n",
    "        self.online = nn.Sequential(\n",
    "            nn.Conv2d(in_channels=c, out_channels=32, kernel_size=8, stride=4),\n",
    "            nn.ReLU(),\n",
    "            nn.Conv2d(in_channels=32, out_channels=64, kernel_size=4, stride=2),\n",
    "            nn.ReLU(),\n",
    "            nn.Conv2d(in_channels=64, out_channels=64, kernel_size=3, stride=1),\n",
    "            nn.ReLU(),\n",
    "            nn.Flatten(),\n",
    "            nn.Linear(3136, 512),\n",
    "            nn.ReLU(),\n",
    "            nn.Linear(512, output_dim)\n",
    "        )\n",
    "        \n",
    "        self.target = copy.deepcopy(self.online)\n",
    "        \n",
    "        # target인 경우 학습 안함\n",
    "        for i in self.target.parameters():\n",
    "            i.requires_grad = False\n",
    "            \n",
    "    def forward(self, input, model):\n",
    "        if model == \"online\":\n",
    "            return self.online(input)\n",
    "        elif model == \"target\":\n",
    "            return self.target(input)"
   ]
  },
  {
   "cell_type": "markdown",
   "metadata": {
    "papermill": {
     "duration": 0.015444,
     "end_time": "2024-06-12T14:53:32.020284",
     "exception": false,
     "start_time": "2024-06-12T14:53:32.004840",
     "status": "completed"
    },
    "tags": []
   },
   "source": [
    "# Agent"
   ]
  },
  {
   "cell_type": "code",
   "execution_count": 8,
   "metadata": {
    "execution": {
     "iopub.execute_input": "2024-06-12T14:53:32.071778Z",
     "iopub.status.busy": "2024-06-12T14:53:32.070740Z",
     "iopub.status.idle": "2024-06-12T14:53:32.073554Z",
     "shell.execute_reply": "2024-06-12T14:53:32.072983Z",
     "shell.execute_reply.started": "2024-06-12T14:40:58.667465Z"
    },
    "papermill": {
     "duration": 0.038241,
     "end_time": "2024-06-12T14:53:32.073651",
     "exception": false,
     "start_time": "2024-06-12T14:53:32.035410",
     "status": "completed"
    },
    "tags": []
   },
   "outputs": [],
   "source": [
    "class Mario:\n",
    "    def __init__(self, state_dim, action_dim, use_cuda):\n",
    "        self.state_dim = state_dim\n",
    "        self.action_dim = action_dim\n",
    "        self.use_cuda = use_cuda\n",
    "        self.memory = deque(maxlen=100000)\n",
    "        self.batch_size = 32\n",
    "        \n",
    "        self.net = MarioNet(self.state_dim, self.action_dim).float()\n",
    "        if self.use_cuda:\n",
    "            self.net = self.net.to(device=\"cuda\")\n",
    "        \n",
    "        self.exploration_rate = 1\n",
    "        self.exploration_rate_decay = 0.99999975\n",
    "        self.exploration_rate_min = 0.1\n",
    "        self.curr_step = 0\n",
    "\n",
    "        self.save_every = 5e5\n",
    "    \n",
    "    \n",
    "    def act(self, state):\n",
    "        # 탐험률이 높으면 무작위 행동\n",
    "        if np.random.rand() < self.exploration_rate:\n",
    "            action_idx = np.random.randint(self.action_dim)\n",
    "        \n",
    "        # 아닌 경우 현재 state를 기준으로 신경망을 통해 행동\n",
    "        else:\n",
    "            state = state.__array__()\n",
    "            \n",
    "            if self.use_cuda: state = torch.tensor(state).cuda()\n",
    "            else: state = torch.tensor(state)\n",
    "                \n",
    "            state = state.unsqueeze(0)\n",
    "            action_values = self.net(state, model=\"online\")\n",
    "            action_idx = torch.argmax(action_values, axis=1).item()\n",
    "            \n",
    "        self.exploration_rate *= self.exploration_rate_decay\n",
    "        self.exploration_rate = max(self.exploration_rate_min, self.exploration_rate)\n",
    "        \n",
    "        self.curr_step += 1\n",
    "        return action_idx\n",
    "    \n",
    "    \n",
    "    # 저장 및 리콜 메서드\n",
    "    def cache(self, state, next_state, action, reward, done):\n",
    "        state = state.__array__()\n",
    "        next_state = next_state.__array__()\n",
    "        \n",
    "        state = torch.tensor(state)\n",
    "        next_state = torch.tensor(next_state)\n",
    "        action = torch.tensor([action])\n",
    "        reward = torch.tensor([reward])\n",
    "        done = torch.tensor([done])\n",
    "        \n",
    "        if self.use_cuda:\n",
    "            state = state.cuda()\n",
    "            next_state = next_state.cuda()\n",
    "            action = action.cuda()\n",
    "            reward = reward.cuda()\n",
    "            done = done.cuda()\n",
    "            \n",
    "        self.memory.append((state, next_state, action, reward, done,))\n",
    "        \n",
    "        \n",
    "    def recall(self):\n",
    "        batch = random.sample(self.memory, self.batch_size)\n",
    "        state, next_state, action, reward, done = map(torch.stack, zip(*batch))\n",
    "        return state, next_state, action.squeeze(), reward.squeeze(), done.squeeze()"
   ]
  },
  {
   "cell_type": "markdown",
   "metadata": {
    "papermill": {
     "duration": 0.014774,
     "end_time": "2024-06-12T14:53:32.103801",
     "exception": false,
     "start_time": "2024-06-12T14:53:32.089027",
     "status": "completed"
    },
    "tags": []
   },
   "source": [
    "# TD Estimate & TD Target"
   ]
  },
  {
   "cell_type": "code",
   "execution_count": 9,
   "metadata": {
    "execution": {
     "iopub.execute_input": "2024-06-12T14:53:32.152302Z",
     "iopub.status.busy": "2024-06-12T14:53:32.146731Z",
     "iopub.status.idle": "2024-06-12T14:53:32.155741Z",
     "shell.execute_reply": "2024-06-12T14:53:32.155218Z",
     "shell.execute_reply.started": "2024-06-12T14:40:58.694261Z"
    },
    "papermill": {
     "duration": 0.03696,
     "end_time": "2024-06-12T14:53:32.155842",
     "exception": false,
     "start_time": "2024-06-12T14:53:32.118882",
     "status": "completed"
    },
    "tags": []
   },
   "outputs": [],
   "source": [
    "class Mario(Mario):\n",
    "    def __init__(self, state_dim, action_dim, use_cuda):\n",
    "        super().__init__(state_dim, action_dim, use_cuda)\n",
    "        self.gamma = 0.9\n",
    "        self.burnin = 1e4\n",
    "        self.learn_every = 3 \n",
    "        self.sync_every = 1e4\n",
    "        self.optimizer = torch.optim.Adam(self.net.parameters(), lr=0.00025)\n",
    "        self.loss_fn = torch.nn.SmoothL1Loss()\n",
    "\n",
    "    # 현재 상태와 행동에 대한 Q값 추정\n",
    "    def td_estimate(self, state, action):\n",
    "        current_Q = self.net(state, model=\"online\")[\n",
    "            np.arange(0, self.batch_size), action\n",
    "        ]\n",
    "        return current_Q\n",
    "\n",
    "    \n",
    "    # 목표 값 계산\n",
    "    @torch.no_grad()\n",
    "    def td_target(self, reward, next_state, done):\n",
    "        next_state_Q = self.net(next_state, model=\"online\")\n",
    "        best_action = torch.argmax(next_state_Q, axis=1)\n",
    "        next_Q = self.net(next_state, model=\"target\")[\n",
    "            np.arange(0, self.batch_size), best_action\n",
    "        ]\n",
    "        return (reward + (1 - done.float()) * self.gamma * next_Q).float()\n",
    "    \n",
    "    \n",
    "    def update_Q_online(self, td_estimate, td_target):\n",
    "        loss = self.loss_fn(td_estimate, td_target)\n",
    "        self.optimizer.zero_grad()\n",
    "        loss.backward()\n",
    "        self.optimizer.step()\n",
    "        return loss.item()\n",
    "\n",
    "    \n",
    "    def sync_Q_target(self):\n",
    "        self.net.target.load_state_dict(self.net.online.state_dict())\n",
    "        \n",
    "    \n",
    "    def learn(self):\n",
    "        if self.curr_step % self.sync_every == 0: self.sync_Q_target()\n",
    "        if self.curr_step % self.save_every == 0: self.save()\n",
    "        if self.curr_step < self.burnin: return None, None\n",
    "        if self.curr_step % self.learn_every != 0: return None, None\n",
    "\n",
    "        state, next_state, action, reward, done = self.recall()\n",
    "        # TD 추정값 계산\n",
    "        td_est = self.td_estimate(state, action)\n",
    "        # TD 목표값 계산\n",
    "        td_tgt = self.td_target(reward, next_state, done)\n",
    "        # 모델 업데이트\n",
    "        loss = self.update_Q_online(td_est, td_tgt)\n",
    "\n",
    "        return (td_est.mean().item(), loss)"
   ]
  },
  {
   "cell_type": "code",
   "execution_count": 10,
   "metadata": {
    "execution": {
     "iopub.execute_input": "2024-06-12T14:53:32.206383Z",
     "iopub.status.busy": "2024-06-12T14:53:32.205497Z",
     "iopub.status.idle": "2024-06-12T14:53:32.208296Z",
     "shell.execute_reply": "2024-06-12T14:53:32.207834Z",
     "shell.execute_reply.started": "2024-06-12T14:40:58.718297Z"
    },
    "papermill": {
     "duration": 0.037453,
     "end_time": "2024-06-12T14:53:32.208392",
     "exception": false,
     "start_time": "2024-06-12T14:53:32.170939",
     "status": "completed"
    },
    "tags": []
   },
   "outputs": [],
   "source": [
    "class MetricLogger:\n",
    "    def __init__(self):\n",
    "        self.ep_rewards = []\n",
    "        self.ep_lengths = []\n",
    "        self.ep_avg_losses = []\n",
    "        self.ep_avg_qs = []\n",
    "\n",
    "        self.moving_avg_ep_rewards = []\n",
    "        self.moving_avg_ep_lengths = []\n",
    "        self.moving_avg_ep_avg_losses = []\n",
    "        self.moving_avg_ep_avg_qs = []\n",
    "\n",
    "        self.init_episode()\n",
    "\n",
    "        self.record_time = time.time()\n",
    "\n",
    "    def log_step(self, reward, loss, q):\n",
    "        self.curr_ep_reward += reward\n",
    "        self.curr_ep_length += 1\n",
    "        if loss:\n",
    "            self.curr_ep_loss += loss\n",
    "            self.curr_ep_q += q\n",
    "            self.curr_ep_loss_length += 1\n",
    "\n",
    "    def log_episode(self):\n",
    "        self.ep_rewards.append(self.curr_ep_reward)\n",
    "        self.ep_lengths.append(self.curr_ep_length)\n",
    "        if self.curr_ep_loss_length == 0:\n",
    "            ep_avg_loss = 0\n",
    "            ep_avg_q = 0\n",
    "        else:\n",
    "            ep_avg_loss = np.round(self.curr_ep_loss / self.curr_ep_loss_length, 5)\n",
    "            ep_avg_q = np.round(self.curr_ep_q / self.curr_ep_loss_length, 5)\n",
    "        self.ep_avg_losses.append(ep_avg_loss)\n",
    "        self.ep_avg_qs.append(ep_avg_q)\n",
    "\n",
    "        self.init_episode()\n",
    "\n",
    "    def init_episode(self):\n",
    "        self.curr_ep_reward = 0.0\n",
    "        self.curr_ep_length = 0\n",
    "        self.curr_ep_loss = 0.0\n",
    "        self.curr_ep_q = 0.0\n",
    "        self.curr_ep_loss_length = 0\n",
    "\n",
    "    def record(self, episode, epsilon, step):\n",
    "        mean_ep_reward = np.round(np.mean(self.ep_rewards[-100:]), 3)\n",
    "        mean_ep_length = np.round(np.mean(self.ep_lengths[-100:]), 3)\n",
    "        mean_ep_loss = np.round(np.mean(self.ep_avg_losses[-100:]), 3)\n",
    "        mean_ep_q = np.round(np.mean(self.ep_avg_qs[-100:]), 3)\n",
    "        self.moving_avg_ep_rewards.append(mean_ep_reward)\n",
    "        self.moving_avg_ep_lengths.append(mean_ep_length)\n",
    "        self.moving_avg_ep_avg_losses.append(mean_ep_loss)\n",
    "        self.moving_avg_ep_avg_qs.append(mean_ep_q)\n",
    "\n",
    "        last_record_time = self.record_time\n",
    "        self.record_time = time.time()\n",
    "        time_since_last_record = np.round(self.record_time - last_record_time, 3)\n",
    "\n",
    "        print(\n",
    "            \"Episode:{:4d}  :: Step:{:5d}  :: Epsilon:{:8.3f}  :: Mean_Reward:{:8.3f}  :: \" \\\n",
    "            \"Mean_Length:{:8.3f}  :: Mean_Loss:{:4.3f}  :: Mean_Q_Value:{:8.3f}  :: \" \\\n",
    "            \"Time_Delta:{:8.3f} \"\n",
    "            .format(episode, step, epsilon, mean_ep_reward, mean_ep_length, \n",
    "                    mean_ep_loss, mean_ep_q, time_since_last_record)\n",
    "        )"
   ]
  },
  {
   "cell_type": "markdown",
   "metadata": {
    "papermill": {
     "duration": 0.015031,
     "end_time": "2024-06-12T14:53:32.238590",
     "exception": false,
     "start_time": "2024-06-12T14:53:32.223559",
     "status": "completed"
    },
    "tags": []
   },
   "source": [
    "# 학습"
   ]
  },
  {
   "cell_type": "code",
   "execution_count": 11,
   "metadata": {
    "execution": {
     "iopub.execute_input": "2024-06-12T14:53:32.314941Z",
     "iopub.status.busy": "2024-06-12T14:53:32.314199Z",
     "iopub.status.idle": "2024-06-12T14:57:46.125701Z",
     "shell.execute_reply": "2024-06-12T14:57:46.124610Z",
     "shell.execute_reply.started": "2024-06-12T14:40:58.742003Z"
    },
    "papermill": {
     "duration": 253.872269,
     "end_time": "2024-06-12T14:57:46.125852",
     "exception": false,
     "start_time": "2024-06-12T14:53:32.253583",
     "status": "completed"
    },
    "tags": []
   },
   "outputs": [
    {
     "name": "stdout",
     "output_type": "stream",
     "text": [
      "Using CUDA: True\n",
      "\n",
      "Episode:   0  :: Step:  204  :: Epsilon:   1.000  :: Mean_Reward: 762.000  :: Mean_Length: 204.000  :: Mean_Loss:0.000  :: Mean_Q_Value:   0.000  :: Time_Delta:   2.404 \n",
      "Episode:  10  :: Step: 2262  :: Epsilon:   0.999  :: Mean_Reward: 648.636  :: Mean_Length: 205.636  :: Mean_Loss:0.000  :: Mean_Q_Value:   0.000  :: Time_Delta:  25.440 \n",
      "Episode:  20  :: Step: 4081  :: Epsilon:   0.999  :: Mean_Reward: 713.619  :: Mean_Length: 194.333  :: Mean_Loss:0.000  :: Mean_Q_Value:   0.000  :: Time_Delta:  21.926 \n",
      "Episode:  30  :: Step: 6178  :: Epsilon:   0.998  :: Mean_Reward: 700.645  :: Mean_Length: 199.290  :: Mean_Loss:0.000  :: Mean_Q_Value:   0.000  :: Time_Delta:  25.525 \n",
      "Episode:  40  :: Step: 7950  :: Epsilon:   0.998  :: Mean_Reward: 681.878  :: Mean_Length: 193.902  :: Mean_Loss:0.000  :: Mean_Q_Value:   0.000  :: Time_Delta:  20.835 \n",
      "Episode:  50  :: Step:10216  :: Epsilon:   0.997  :: Mean_Reward: 691.667  :: Mean_Length: 200.314  :: Mean_Loss:0.056  :: Mean_Q_Value:   0.059  :: Time_Delta:  27.674 \n",
      "Episode:  60  :: Step:11817  :: Epsilon:   0.997  :: Mean_Reward: 688.820  :: Mean_Length: 193.721  :: Mean_Loss:0.235  :: Mean_Q_Value:   0.653  :: Time_Delta:  21.613 \n",
      "Episode:  70  :: Step:13491  :: Epsilon:   0.997  :: Mean_Reward: 670.563  :: Mean_Length: 190.014  :: Mean_Loss:0.287  :: Mean_Q_Value:   1.064  :: Time_Delta:  22.372 \n",
      "Episode:  80  :: Step:15403  :: Epsilon:   0.996  :: Mean_Reward: 663.679  :: Mean_Length: 190.160  :: Mean_Loss:0.310  :: Mean_Q_Value:   1.370  :: Time_Delta:  25.904 \n",
      "Episode:  90  :: Step:17627  :: Epsilon:   0.996  :: Mean_Reward: 661.385  :: Mean_Length: 193.703  :: Mean_Loss:0.324  :: Mean_Q_Value:   1.606  :: Time_Delta:  30.060 \n",
      "Episode: 100  :: Step:19551  :: Epsilon:   0.995  :: Mean_Reward: 649.160  :: Mean_Length: 193.470  :: Mean_Loss:0.338  :: Mean_Q_Value:   1.807  :: Time_Delta:  26.227 \n"
     ]
    }
   ],
   "source": [
    "use_cuda = torch.cuda.is_available()\n",
    "print(f\"Using CUDA: {use_cuda}\")\n",
    "print()\n",
    "\n",
    "mario = Mario(state_dim=(4, 84, 84), action_dim=env.action_space.n, use_cuda=use_cuda)\n",
    "\n",
    "logger = MetricLogger()\n",
    "\n",
    "episodes = 101\n",
    "for e in range(episodes):\n",
    "\n",
    "    state = env.reset()\n",
    "    while True:\n",
    "\n",
    "        action = mario.act(state)\n",
    "        next_state, reward, done, info = env.step(action)\n",
    "        mario.cache(state, next_state, action, reward, done)\n",
    "        q, loss = mario.learn()\n",
    "        logger.log_step(reward, loss, q)\n",
    "        state = next_state\n",
    "\n",
    "        if done or info[\"flag_get\"]:\n",
    "            break\n",
    "\n",
    "    logger.log_episode()\n",
    "    \n",
    "    # 10개 에피소드마다 확인\n",
    "    if e % 10 == 0:\n",
    "        logger.record(episode=e, epsilon=mario.exploration_rate, step=mario.curr_step)"
   ]
  },
  {
   "cell_type": "markdown",
   "metadata": {
    "papermill": {
     "duration": 0.018957,
     "end_time": "2024-06-12T14:57:46.167612",
     "exception": false,
     "start_time": "2024-06-12T14:57:46.148655",
     "status": "completed"
    },
    "tags": []
   },
   "source": [
    "# 시각화"
   ]
  },
  {
   "cell_type": "code",
   "execution_count": 12,
   "metadata": {
    "_kg_hide-input": true,
    "execution": {
     "iopub.execute_input": "2024-06-12T14:57:46.233756Z",
     "iopub.status.busy": "2024-06-12T14:57:46.218460Z",
     "iopub.status.idle": "2024-06-12T14:57:54.025888Z",
     "shell.execute_reply": "2024-06-12T14:57:54.025216Z",
     "shell.execute_reply.started": "2024-06-12T14:47:13.661373Z"
    },
    "papermill": {
     "duration": 7.839135,
     "end_time": "2024-06-12T14:57:54.026001",
     "exception": false,
     "start_time": "2024-06-12T14:57:46.186866",
     "status": "completed"
    },
    "tags": []
   },
   "outputs": [
    {
     "data": {
      "text/plain": [
       "<pyvirtualdisplay.display.Display at 0x79e7dfe99190>"
      ]
     },
     "execution_count": 12,
     "metadata": {},
     "output_type": "execute_result"
    }
   ],
   "source": [
    "!pip --disable-pip-version-check install -q pyvirtualdisplay\n",
    "\n",
    "from pyvirtualdisplay import Display\n",
    "\n",
    "from IPython import display as ipythondisplay\n",
    "from IPython.display import HTML\n",
    "\n",
    "from gym.wrappers import Monitor\n",
    "from glob import glob\n",
    "\n",
    "import base64\n",
    "import io\n",
    "\n",
    "display = Display(visible=0, size=(600, 300))\n",
    "display.start()"
   ]
  },
  {
   "cell_type": "code",
   "execution_count": 13,
   "metadata": {
    "execution": {
     "iopub.execute_input": "2024-06-12T14:57:54.075152Z",
     "iopub.status.busy": "2024-06-12T14:57:54.074420Z",
     "iopub.status.idle": "2024-06-12T14:57:54.077610Z",
     "shell.execute_reply": "2024-06-12T14:57:54.077073Z",
     "shell.execute_reply.started": "2024-06-12T14:47:22.507052Z"
    },
    "papermill": {
     "duration": 0.03164,
     "end_time": "2024-06-12T14:57:54.077714",
     "exception": false,
     "start_time": "2024-06-12T14:57:54.046074",
     "status": "completed"
    },
    "tags": []
   },
   "outputs": [],
   "source": [
    "def show_video():\n",
    "    mp4list = glob('/kaggle/working/video/*.mp4')\n",
    "    if len(mp4list) > 0:\n",
    "        mp4 = mp4list[0]\n",
    "        video = io.open(mp4, 'r+b').read()\n",
    "        encoded = base64.b64encode(video)\n",
    "        ipythondisplay.display(HTML(data='''<video alt=\"test\" autoplay \n",
    "                    loop controls style=\"height: 400px;\">\n",
    "                    <source src=\"data:video/mp4;base64,{0}\" type=\"video/mp4\" />\n",
    "                 </video>'''.format(encoded.decode('ascii'))))\n",
    "    else: \n",
    "        print(\"Could not find video\")\n",
    "    \n",
    "\n",
    "def wrap_env(env):\n",
    "    env = Monitor(env, '/kaggle/working/video', force=True)\n",
    "    return env\n",
    "\n",
    "env = wrap_env(env)"
   ]
  },
  {
   "cell_type": "code",
   "execution_count": 14,
   "metadata": {
    "execution": {
     "iopub.execute_input": "2024-06-12T14:57:54.123637Z",
     "iopub.status.busy": "2024-06-12T14:57:54.122724Z",
     "iopub.status.idle": "2024-06-12T14:57:58.081770Z",
     "shell.execute_reply": "2024-06-12T14:57:58.082362Z",
     "shell.execute_reply.started": "2024-06-12T14:47:22.518787Z"
    },
    "papermill": {
     "duration": 3.985193,
     "end_time": "2024-06-12T14:57:58.082541",
     "exception": false,
     "start_time": "2024-06-12T14:57:54.097348",
     "status": "completed"
    },
    "tags": []
   },
   "outputs": [
    {
     "data": {
      "text/html": [
       "<video alt=\"test\" autoplay \n",
       "                    loop controls style=\"height: 400px;\">\n",
       "                    <source src=\"data:video/mp4;base64,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\" type=\"video/mp4\" />\n",
       "                 </video>"
      ],
      "text/plain": [
       "<IPython.core.display.HTML object>"
      ]
     },
     "metadata": {},
     "output_type": "display_data"
    }
   ],
   "source": [
    "state = env.reset()\n",
    "\n",
    "while True:\n",
    "    action = mario.act(state)\n",
    "    next_state, reward, done, info = env.step(action)\n",
    "    state = next_state\n",
    "    \n",
    "    if done or info[\"flag_get\"]:\n",
    "        break\n",
    "\n",
    "env.close()\n",
    "show_video()"
   ]
  }
 ],
 "metadata": {
  "kaggle": {
   "accelerator": "gpu",
   "dataSources": [
    {
     "datasetId": 1104610,
     "sourceId": 1856810,
     "sourceType": "datasetVersion"
    }
   ],
   "dockerImageVersionId": 30043,
   "isGpuEnabled": true,
   "isInternetEnabled": true,
   "language": "python",
   "sourceType": "notebook"
  },
  "kernelspec": {
   "display_name": "Python 3",
   "language": "python",
   "name": "python3"
  },
  "language_info": {
   "codemirror_mode": {
    "name": "ipython",
    "version": 3
   },
   "file_extension": ".py",
   "mimetype": "text/x-python",
   "name": "python",
   "nbconvert_exporter": "python",
   "pygments_lexer": "ipython3",
   "version": "3.7.6"
  },
  "papermill": {
   "duration": 289.496322,
   "end_time": "2024-06-12T14:57:58.417729",
   "environment_variables": {},
   "exception": null,
   "input_path": "__notebook__.ipynb",
   "output_path": "__notebook__.ipynb",
   "parameters": {},
   "start_time": "2024-06-12T14:53:08.921407",
   "version": "2.1.0"
  }
 },
 "nbformat": 4,
 "nbformat_minor": 4
}
